{
  "cells": [
    {
      "attachments": {},
      "cell_type": "markdown",
      "metadata": {},
      "source": [
        "  # Using GPT API to find the best product for a given query"
      ]
    },
    {
      "attachments": {},
      "cell_type": "markdown",
      "metadata": {},
      "source": [
        "We need to install openai library in case we don't have it (i.e. Google Colab doesn't have openai by default)"
      ]
    },
    {
      "cell_type": "code",
      "execution_count": null,
      "metadata": {
        "colab": {
          "base_uri": "https://localhost:8080/"
        },
        "id": "NEgF_aP0nYRL",
        "outputId": "22737cd9-56e3-4f93-a951-67648222eedf"
      },
      "outputs": [
        {
          "name": "stdout",
          "output_type": "stream",
          "text": [
            "Looking in indexes: https://pypi.org/simple, https://us-python.pkg.dev/colab-wheels/public/simple/\n",
            "Collecting openai\n",
            "  Downloading openai-0.27.4-py3-none-any.whl (70 kB)\n",
            "\u001b[2K     \u001b[90m━━━━━━━━━━━━━━━━━━━━━━━━━━━━━━━━━━━━━━━━\u001b[0m \u001b[32m70.3/70.3 kB\u001b[0m \u001b[31m1.7 MB/s\u001b[0m eta \u001b[36m0:00:00\u001b[0m\n",
            "\u001b[?25hCollecting aiohttp\n",
            "  Downloading aiohttp-3.8.4-cp39-cp39-manylinux_2_17_x86_64.manylinux2014_x86_64.whl (1.0 MB)\n",
            "\u001b[2K     \u001b[90m━━━━━━━━━━━━━━━━━━━━━━━━━━━━━━━━━━━━━━━━\u001b[0m \u001b[32m1.0/1.0 MB\u001b[0m \u001b[31m11.4 MB/s\u001b[0m eta \u001b[36m0:00:00\u001b[0m\n",
            "\u001b[?25hRequirement already satisfied: requests>=2.20 in /usr/local/lib/python3.9/dist-packages (from openai) (2.27.1)\n",
            "Requirement already satisfied: tqdm in /usr/local/lib/python3.9/dist-packages (from openai) (4.65.0)\n",
            "Requirement already satisfied: charset-normalizer~=2.0.0 in /usr/local/lib/python3.9/dist-packages (from requests>=2.20->openai) (2.0.12)\n",
            "Requirement already satisfied: certifi>=2017.4.17 in /usr/local/lib/python3.9/dist-packages (from requests>=2.20->openai) (2022.12.7)\n",
            "Requirement already satisfied: idna<4,>=2.5 in /usr/local/lib/python3.9/dist-packages (from requests>=2.20->openai) (3.4)\n",
            "Requirement already satisfied: urllib3<1.27,>=1.21.1 in /usr/local/lib/python3.9/dist-packages (from requests>=2.20->openai) (1.26.15)\n",
            "Collecting yarl<2.0,>=1.0\n",
            "  Downloading yarl-1.8.2-cp39-cp39-manylinux_2_17_x86_64.manylinux2014_x86_64.whl (264 kB)\n",
            "\u001b[2K     \u001b[90m━━━━━━━━━━━━━━━━━━━━━━━━━━━━━━━━━━━━━━━\u001b[0m \u001b[32m264.6/264.6 kB\u001b[0m \u001b[31m9.8 MB/s\u001b[0m eta \u001b[36m0:00:00\u001b[0m\n",
            "\u001b[?25hCollecting frozenlist>=1.1.1\n",
            "  Downloading frozenlist-1.3.3-cp39-cp39-manylinux_2_5_x86_64.manylinux1_x86_64.manylinux_2_17_x86_64.manylinux2014_x86_64.whl (158 kB)\n",
            "\u001b[2K     \u001b[90m━━━━━━━━━━━━━━━━━━━━━━━━━━━━━━━━━━━━━━━\u001b[0m \u001b[32m158.8/158.8 kB\u001b[0m \u001b[31m7.9 MB/s\u001b[0m eta \u001b[36m0:00:00\u001b[0m\n",
            "\u001b[?25hCollecting async-timeout<5.0,>=4.0.0a3\n",
            "  Downloading async_timeout-4.0.2-py3-none-any.whl (5.8 kB)\n",
            "Collecting multidict<7.0,>=4.5\n",
            "  Downloading multidict-6.0.4-cp39-cp39-manylinux_2_17_x86_64.manylinux2014_x86_64.whl (114 kB)\n",
            "\u001b[2K     \u001b[90m━━━━━━━━━━━━━━━━━━━━━━━━━━━━━━━━━━━━━━━\u001b[0m \u001b[32m114.2/114.2 kB\u001b[0m \u001b[31m5.2 MB/s\u001b[0m eta \u001b[36m0:00:00\u001b[0m\n",
            "\u001b[?25hCollecting aiosignal>=1.1.2\n",
            "  Downloading aiosignal-1.3.1-py3-none-any.whl (7.6 kB)\n",
            "Requirement already satisfied: attrs>=17.3.0 in /usr/local/lib/python3.9/dist-packages (from aiohttp->openai) (22.2.0)\n",
            "Installing collected packages: multidict, frozenlist, async-timeout, yarl, aiosignal, aiohttp, openai\n",
            "Successfully installed aiohttp-3.8.4 aiosignal-1.3.1 async-timeout-4.0.2 frozenlist-1.3.3 multidict-6.0.4 openai-0.27.4 yarl-1.8.2\n"
          ]
        }
      ],
      "source": [
        "!pip install openai"
      ]
    },
    {
      "cell_type": "code",
      "execution_count": null,
      "metadata": {
        "id": "RmjG0pIBDv5S"
      },
      "outputs": [],
      "source": [
        "import requests\n",
        "from bs4 import BeautifulSoup\n",
        "import openai"
      ]
    },
    {
      "cell_type": "markdown",
      "metadata": {},
      "source": [
        "--------------------------------------------------------------------------------------------------------\n",
        "<h1>Enter parameters here!</h1>"
      ]
    },
    {
      "cell_type": "code",
      "execution_count": null,
      "metadata": {},
      "outputs": [],
      "source": [
        "openai.api_key = 'Your API key here'\n",
        "n_items=5\n",
        "search_query=\"portable radio\""
      ]
    },
    {
      "cell_type": "markdown",
      "metadata": {},
      "source": [
        "-----------------------------------------------------------------------------------------------"
      ]
    },
    {
      "cell_type": "code",
      "execution_count": null,
      "metadata": {
        "id": "MKph1dbvHq6j"
      },
      "outputs": [],
      "source": [
        "def scrape_amazon_product_page(url):\n",
        "    # send a GET request to the url and get the HTML content\n",
        "    headers = {\n",
        "    'User-Agent': 'Mozilla/5.0 (Windows NT 6.1) AppleWebKit/537.36 (KHTML, like Gecko) Chrome/41.0.2228.0 Safari/537.36',\n",
        "    'referer': 'https://google.com',\n",
        "    }\n",
        "    response = requests.get(url,headers=headers)\n",
        "\n",
        "    # create a BeautifulSoup object to parse the HTML content\n",
        "    soup = BeautifulSoup(response.content, 'html.parser')\n",
        "    \n",
        "    # get the name of the product\n",
        "    try:\n",
        "        name = soup.find('span', {'id': 'productTitle'}).text.strip()\n",
        "    except:\n",
        "        name = None\n",
        "\n",
        "    # get the price of the product\n",
        "    try:\n",
        "        price = soup.find('span', {'class': 'a-price-whole'}).text.strip()\n",
        "    except:\n",
        "        price = None\n",
        "    try:\n",
        "        price_fraction = soup.find('span', {'class': 'a-price-fraction'}).text.strip()\n",
        "    except:\n",
        "        price_fraction = None\n",
        "    # get the category of the product\n",
        "    try:\n",
        "        category = soup.find('a', {'class': 'a-link-normal a-color-tertiary'}).text.strip()\n",
        "    except:\n",
        "        category = None\n",
        "\n",
        "    # get the link of the product\n",
        "    link = url\n",
        "\n",
        "    # get the delivery time of the product\n",
        "    try:\n",
        "        delivery_time = soup.find('div', {'id': 'ddmDeliveryMessage'}).text.strip()\n",
        "    except:\n",
        "        delivery_time = None\n",
        "\n",
        "    # get the rating of the product\n",
        "    try:\n",
        "        rating = soup.find('span', {'class': 'a-icon-alt'}).text.strip()\n",
        "    except:\n",
        "        rating = None\n",
        "\n",
        "    # get the rating count of the product\n",
        "    try:\n",
        "        rating_count = soup.find('span', {'id': 'acrCustomerReviewText'}).text.strip()\n",
        "    except:\n",
        "        rating_count = None\n",
        "    if not rating_count:\n",
        "        rating=None\n",
        "\n",
        "    # create a dictionary with the extracted information\n",
        "    try:\n",
        "        product_description = soup.find('div', {'id': 'productDescription'}).text.strip()\n",
        "\n",
        "    except:\n",
        "        product_description = None\n",
        "    try:\n",
        "      details_div = soup.find('div', {'id': 'productDetails_feature_div'})\n",
        "      rows = details_div.find_all('tr')\n",
        "\n",
        "      # create a dictionary to store the information\n",
        "      product_info = \"\"\n",
        "\n",
        "      # iterate over the rows and extract the information\n",
        "      for row in rows:\n",
        "          # extract the label and value from the row\n",
        "          label = row.find('th').text.strip()\n",
        "          value = row.find('td').text.strip()\n",
        "          \n",
        "          # add the information to the product_info variable\n",
        "          product_info += f\"{label}: {value}\\n\"\n",
        "\n",
        "    except:\n",
        "      product_info=\"\"\n",
        "\n",
        "    # extract the \"about\" section\n",
        "    try:\n",
        "      about_div = soup.find('div', {'id': 'feature-bullets'})\n",
        "      about_text = \"\"\n",
        "\n",
        "      if about_div is not None:\n",
        "          # find all the ul elements inside the about_div\n",
        "          ul_list = about_div.find_all('ul', class_='a-unordered-list')\n",
        "          # iterate over the ul elements and find the one containing the \"About this item\" header\n",
        "          for ul in ul_list:\n",
        "              header = ul.find_previous('h1')\n",
        "              if header is not None and header.get_text(strip=True) == 'About this item':\n",
        "                  # iterate over the li elements and concatenate their text\n",
        "                  for li in ul.find_all('li'):\n",
        "                      about_text += li.get_text(strip=True) + \"\\n\"\n",
        "                  break  # exit the loop if we found the correct ul element\n",
        "    except:\n",
        "      about_text = \"\"\n",
        "      \n",
        "    product_info = {\n",
        "        'name': name,\n",
        "        'price': price,\n",
        "        'price_fraction':price_fraction,\n",
        "        'category': category,\n",
        "        'link': link,\n",
        "        'delivery time': delivery_time,\n",
        "        'description':product_description,\n",
        "        'information': product_info,\n",
        "        'rating': rating,\n",
        "        'rating count': rating_count,\n",
        "        'about_text':about_text\n",
        "    }\n",
        "\n",
        "    # return the dictionary\n",
        "    return product_info"
      ]
    },
    {
      "cell_type": "code",
      "execution_count": null,
      "metadata": {
        "id": "UwwZenUxDyD2"
      },
      "outputs": [],
      "source": [
        "def search_amazon(product_name):\n",
        "    URL = f\"https://www.amazon.ca/s?k={product_name}&ref=nb_sb_noss_2\"\n",
        "    headers = {\n",
        "    'User-Agent': 'Mozilla/5.0 (Windows NT 6.1) AppleWebKit/537.36 (KHTML, like Gecko) Chrome/41.0.2228.0 Safari/537.36',\n",
        "    'referer': 'https://google.com',\n",
        "    }\n",
        "    # HTTP Request\n",
        "    webpage = requests.get(URL, headers=headers)\n",
        "\n",
        "    # Soup Object containing all data\n",
        "    soup = BeautifulSoup(webpage.content, \"html.parser\")\n",
        "    # Fetch links as List of Tag Objects\n",
        "    links = soup.find_all(\"a\", attrs={'class':'a-link-normal s-no-outline'})\n",
        "    # Store the links\n",
        "    links_dict={}\n",
        "    # Loop for extracting links from Tag Objects\n",
        "    for link in links:\n",
        "        try:\n",
        "            id=link.get('href').split(\"/dp/\")[1].split(\"/\")[0]\n",
        "            links_dict[link.get('href').split(\"/dp/\")[0]]=f\"https://www.amazon.ca/dp/{id}\"\n",
        "        except:\n",
        "            continue\n",
        "    # Return the results list\n",
        "    return links_dict"
      ]
    },
    {
      "cell_type": "code",
      "execution_count": null,
      "metadata": {
        "id": "wIDaxMEcJBRO"
      },
      "outputs": [],
      "source": [
        "def ask_gpt(system,text, model,  max_tokens):\n",
        "    messages = [{\"role\": \"system\",\n",
        "                 \"content\":system},\n",
        "                {\"role\": \"user\",\n",
        "                \"content\": text}]\n",
        "    \n",
        "    response = openai.ChatCompletion.create(\n",
        "                model=model,\n",
        "                messages=messages,\n",
        "                max_tokens=max_tokens,\n",
        "                temperature=0.1\n",
        "              )\n",
        "    return response[\"choices\"][0][\"message\"][\"content\"].strip()"
      ]
    },
    {
      "cell_type": "code",
      "execution_count": null,
      "metadata": {
        "id": "LcsvW1y5JEH8"
      },
      "outputs": [],
      "source": [
        "#Got the summarizer idea from AutoGPT\n",
        "#https://github.com/Significant-Gravitas/Auto-GPT\n",
        "\n",
        "def summarize_text(text):\n",
        "    \"\"\"Summarize text using the GPT-3.5 Turbo model\"\"\"\n",
        "    def split_text(text, max_length=8192):\n",
        "        paragraphs = text.split(\"\\n\")\n",
        "        current_length = 0\n",
        "        current_chunk = []\n",
        "\n",
        "        for paragraph in paragraphs:\n",
        "            if current_length + len(paragraph) + 1 <= max_length:\n",
        "                current_chunk.append(paragraph)\n",
        "                current_length += len(paragraph) + 1\n",
        "            else:\n",
        "                yield \"\\n\".join(current_chunk)\n",
        "                current_chunk = [paragraph]\n",
        "                current_length = len(paragraph) + 1\n",
        "\n",
        "        if current_chunk:\n",
        "            yield \"\\n\".join(current_chunk)\n",
        "\n",
        "\n",
        "    # Split the text into chunks\n",
        "    chunks = list(split_text(text))\n",
        "\n",
        "    # Generate a summary for each chunk\n",
        "    summaries = []\n",
        "    for i, chunk in enumerate(chunks):\n",
        "        print(f\"Summarizing chunk {i + 1} / {len(chunks)}\")\n",
        "        summaries.append(ask_gpt(\"You are a summarizer that summarizes the given text. Do not include any other information in your response. Maintain the original style of the text in your response.\",chunk,\"gpt-3.5-turbo\",300))\n",
        "\n",
        "    # Combine the summaries into a final summary\n",
        "    final_summary = \"\\n\".join(summaries)\n",
        "\n",
        "    return final_summary\n"
      ]
    },
    {
      "cell_type": "code",
      "execution_count": null,
      "metadata": {
        "id": "mcL8k3ZSwKD-"
      },
      "outputs": [],
      "source": [
        "#A class that shows HTML content in an IPython Notebook\n",
        "class html_resolve():\n",
        "    def __init__(self,HTML_response):\n",
        "        if '<table' not in HTML_response:\n",
        "            self.text= (HTML_response)\n",
        "        else:\n",
        "            self.text= \"\"\"<style>\n",
        "            table, th, td {\n",
        "              border: 1px solid black;\n",
        "            }\n",
        "          </style>\"\"\"+HTML_response\n",
        "    def _repr_html_(self):\n",
        "        return self.text\n"
      ]
    },
    {
      "cell_type": "code",
      "execution_count": null,
      "metadata": {
        "id": "hZRn2lw7IHeE"
      },
      "outputs": [],
      "source": [
        "search_results = search_amazon(search_query)"
      ]
    },
    {
      "cell_type": "code",
      "execution_count": null,
      "metadata": {
        "colab": {
          "base_uri": "https://localhost:8080/"
        },
        "id": "4VEvHSzXInVL",
        "outputId": "a42a40ef-ac71-4a3d-8745-67a0d1fcb95c"
      },
      "outputs": [
        {
          "name": "stdout",
          "output_type": "stream",
          "text": [
            "1/5 Results for /Panasonic-Portable-Radio-Silver-RF-2400 saved.\n",
            "2/5 Results for /FosPower-Emergency-Portable-Household-Flashlight saved.\n",
            "3/5 Results for /Sony-Portable-Radio-Audio-ICF506 saved.\n",
            "4/5 Results for /Portable-Reception-Battery-Operated-Earphone saved.\n",
            "5/5 Results for /Sony-ICF-P27-Portable-Radio-Speaker saved.\n"
          ]
        }
      ],
      "source": [
        "scrape_results={}\n",
        "n_items_initial=n_items\n",
        "for product_title,product_url in search_results.items():\n",
        "  n_items-=1\n",
        "  product_info = scrape_amazon_product_page(product_url)\n",
        "  scrape_results[product_title]=product_info\n",
        "  print(f\"{n_items_initial-n_items}/{n_items_initial} Results for {product_title} saved.\")\n",
        "  if n_items==0:\n",
        "    break"
      ]
    },
    {
      "cell_type": "code",
      "execution_count": null,
      "metadata": {
        "colab": {
          "base_uri": "https://localhost:8080/"
        },
        "id": "2Vs8FpqyYS3l",
        "outputId": "f1de30a4-65ed-4a7b-9a72-7bed22e2fafa"
      },
      "outputs": [
        {
          "name": "stdout",
          "output_type": "stream",
          "text": [
            "Summarizing chunk 1 / 1\n",
            "1/5 Results for /Panasonic-Portable-Radio-Silver-RF-2400 summarized.\n",
            "Summarizing chunk 1 / 1\n",
            "2/5 Results for /FosPower-Emergency-Portable-Household-Flashlight summarized.\n",
            "Summarizing chunk 1 / 1\n",
            "3/5 Results for /Sony-Portable-Radio-Audio-ICF506 summarized.\n",
            "Summarizing chunk 1 / 1\n",
            "4/5 Results for /Portable-Reception-Battery-Operated-Earphone summarized.\n",
            "Summarizing chunk 1 / 1\n",
            "5/5 Results for /Sony-ICF-P27-Portable-Radio-Speaker summarized.\n"
          ]
        }
      ],
      "source": [
        "i=1\n",
        "required_info={}\n",
        "for product_title,product_info in scrape_results.items():\n",
        "  long_text=f\"Product Description:{product_info['description']}\\n Product Information: {product_info['information']}\\n About Section: {product_info['about_text']}\"\n",
        "  summary = summarize_text(long_text)\n",
        "  sumarized_info_dict=dict((k, product_info[k]) for k in ('name', 'price', 'price_fraction', 'link', 'delivery time', 'rating', 'rating count'))\n",
        "  sumarized_info_dict[\"information\"]=summary\n",
        "  required_info[product_title]=sumarized_info_dict\n",
        "  print(f\"{i}/{n_items_initial} Results for {product_title} summarized.\")\n",
        "  i+=1\n"
      ]
    },
    {
      "cell_type": "code",
      "execution_count": null,
      "metadata": {
        "id": "RLo-i-UZvpwJ"
      },
      "outputs": [],
      "source": [
        "HTML_response=ask_gpt(f\"You are a product reviewer. You suggest products between a selection based on their properties and the user's inital query, which is {search_query}. Summarize long names and avoid long descriptions. You only respond in a way that is parsable by HTML.\",f\"Create a comparison table for the given products, including columns for price, link, a column named 'Unique Properties' which explains what sets them apart from the others, and rating, ranked by preference. include only very short names. Only respond in HTML.\\n\\n\\n\"+str(required_info),\"gpt-3.5-turbo\",1200)"
      ]
    },
    {
      "cell_type": "code",
      "execution_count": null,
      "metadata": {
        "colab": {
          "base_uri": "https://localhost:8080/",
          "height": 153
        },
        "id": "cPAiry5RxnOE",
        "outputId": "53bbc8f0-8e87-465b-a32b-afa8a8487495"
      },
      "outputs": [
        {
          "data": {
            "text/html": [
              "<style>\n",
              "            table, th, td {\n",
              "              border: 1px solid black;\n",
              "            }\n",
              "          </style><table>\n",
              "  <tr>\n",
              "    <th>Name</th>\n",
              "    <th>Price</th>\n",
              "    <th>Link</th>\n",
              "    <th>Unique Properties</th>\n",
              "    <th>Rating</th>\n",
              "  </tr>\n",
              "  <tr>\n",
              "    <td>Panasonic Portable Radio</td>\n",
              "    <td>$44.99</td>\n",
              "    <td><a href=\"https://www.amazon.ca/dp/B003M5RYOK\">Link</a></td>\n",
              "    <td>AC/DC, large band indicator, fold-down handle</td>\n",
              "    <td>4.5</td>\n",
              "  </tr>\n",
              "  <tr>\n",
              "    <td>FosPower Emergency Radio</td>\n",
              "    <td>$39.90</td>\n",
              "    <td><a href=\"https://www.amazon.ca/dp/B07FKYHTWP\">Link</a></td>\n",
              "    <td>Solar charging, hand crank, power bank, NOAA emergency broadcasts</td>\n",
              "    <td>4.4</td>\n",
              "  </tr>\n",
              "  <tr>\n",
              "    <td>Sony ICF-506 Portable Radio</td>\n",
              "    <td>$59.99</td>\n",
              "    <td><a href=\"https://www.amazon.ca/dp/B06Y11B6L8\">Link</a></td>\n",
              "    <td>Analog tuning, carrying handle, earphone output</td>\n",
              "    <td>4.5</td>\n",
              "  </tr>\n",
              "  <tr>\n",
              "    <td>LEOTEC Portable AM FM Radio</td>\n",
              "    <td>$34.99</td>\n",
              "    <td><a href=\"https://www.amazon.ca/dp/B097DKD652\">Link</a></td>\n",
              "    <td>Retractable antenna, big speaker, clear dial, earphone jack</td>\n",
              "    <td>4.3</td>\n",
              "  </tr>\n",
              "  <tr>\n",
              "    <td>Sony ICF-P27 Portable Radio</td>\n",
              "    <td>$39.99</td>\n",
              "    <td><a href=\"https://www.amazon.ca/dp/B09QBZSYTS\">Link</a></td>\n",
              "    <td>Hand strap, LED tuning indicator, headphone jack</td>\n",
              "    <td>4.3</td>\n",
              "  </tr>\n",
              "</table>"
            ],
            "text/plain": [
              "<__main__.html_resolve at 0x7fcb1ea04580>"
            ]
          },
          "execution_count": 82,
          "metadata": {},
          "output_type": "execute_result"
        }
      ],
      "source": [
        "html_resolve(HTML_response)"
      ]
    },
    {
      "cell_type": "code",
      "execution_count": null,
      "metadata": {
        "id": "VgXSqASoYDmM"
      },
      "outputs": [],
      "source": [
        "HTML_response=ask_gpt(f\"You are a product reviewer. You suggest products between a selection based on their properties and the user's inital query, which is {search_query}. Summarize long names and avoid long descriptions. You only respond in a way that is parsable by HTML.\",f\"For each product, please provide a brief opinion (verdict) and rank them in order of preference. At the end, tell me which one is the best option and why. Only respond in HTML.\\n\\n\\n\"+str(required_info),\"gpt-3.5-turbo\",1200)"
      ]
    },
    {
      "cell_type": "code",
      "execution_count": null,
      "metadata": {
        "colab": {
          "base_uri": "https://localhost:8080/",
          "height": 253
        },
        "id": "RKM5xCbugvP5",
        "outputId": "3a8bc347-8449-4cbc-ee1e-c4e9c7722281"
      },
      "outputs": [
        {
          "data": {
            "text/html": [
              "<ol>\n",
              "<li><a href=\"https://www.amazon.ca/dp/B07FKYHTWP\">FosPower 2000mAh NOAA Emergency Weather Radio (Model A1) Portable Power Bank with Solar Charging, Hand Crank &amp; Battery Operated, SOS Alarm, AM/FM &amp; LED Flashlight for Outdoor Emergency</a>: This is the best option as it has the highest rating count and is ranked as the number one portable radio on Amazon's Best Sellers list. It has multiple power sources, a power bank, and can receive emergency broadcasts from NOAA and AM/FM stations.</li>\n",
              "<li><a href=\"https://www.amazon.ca/dp/B003M5RYOK\">Panasonic Portable Radio AM/FM AC/DC, Silver (RF-2400D)</a>: This portable radio has a big dial panel, a dynamic 10cm speaker, and a 10cm ferrite bar antenna for excellent sound quality. It runs on both AC 120-V and DC AA Battery for on the go listening to music, sports, weather, and emergency broadcasts.</li>\n",
              "<li><a href=\"https://www.amazon.ca/dp/B06Y11B6L8\">Sony ICF-506 Analog Tuning Portable FM/AM Radio, Black 2.14 lb</a>: This portable radio is versatile and features easy, integrated analog tuning, a powerful mono speaker, and a built-in carrying handle, making it easily portable. It can be powered by either batteries or a plug-in adapter and has an earphone output.</li>\n",
              "<li><a href=\"https://www.amazon.ca/dp/B097DKD652\">LEOTEC Portable AM FM Radio with Best Reception,Battery Operated or AC Power,Big Speaker,Large Tuning Knob,Clear Dial,Earphone Jack for Gift,Elder,Home</a>: This portable radio has a retractable copper telescopic antenna for strong and stable reception in the FM frequency range of 87.5-108MHz and the AM frequency range of 520-1600KHz. It has a big external speaker for loud and clear sound and also has a 3.5mm headphone jack for private listening.</li>\n",
              "<li><a href=\"https://www.amazon.ca/dp/B09QBZSYTS\">Sony ICF-P27 Portable Radio with Speaker and AM/FM Tuner</a>: This portable radio has an AM/FM tuner technology and a 3.5mm audio hardware interface. It has a built-in hand strap for portability and a dedicated headphone jack for personal listening. It has an LED tuning indicator that helps to tune into stations with precision.</li>\n",
              "</ol>"
            ],
            "text/plain": [
              "<__main__.html_resolve at 0x7fcb1ea04a60>"
            ]
          },
          "execution_count": 84,
          "metadata": {},
          "output_type": "execute_result"
        }
      ],
      "source": [
        "html_resolve(HTML_response)"
      ]
    }
  ],
  "metadata": {
    "colab": {
      "provenance": []
    },
    "kernelspec": {
      "display_name": "Python 3",
      "name": "python3"
    },
    "language_info": {
      "name": "python"
    }
  },
  "nbformat": 4,
  "nbformat_minor": 0
}
